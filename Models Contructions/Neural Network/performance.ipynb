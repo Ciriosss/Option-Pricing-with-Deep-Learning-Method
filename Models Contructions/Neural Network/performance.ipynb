{
 "cells": [
  {
   "cell_type": "markdown",
   "id": "301a0831",
   "metadata": {},
   "source": [
    "# Importing new dataset for evaluation\n"
   ]
  },
  {
   "cell_type": "code",
   "execution_count": 63,
   "id": "a773aba5-d29c-4841-a9cf-53dd73df13db",
   "metadata": {
    "tags": []
   },
   "outputs": [
    {
     "data": {
      "text/html": [
       "<div>\n",
       "<style scoped>\n",
       "    .dataframe tbody tr th:only-of-type {\n",
       "        vertical-align: middle;\n",
       "    }\n",
       "\n",
       "    .dataframe tbody tr th {\n",
       "        vertical-align: top;\n",
       "    }\n",
       "\n",
       "    .dataframe thead th {\n",
       "        text-align: right;\n",
       "    }\n",
       "</style>\n",
       "<table border=\"1\" class=\"dataframe\">\n",
       "  <thead>\n",
       "    <tr style=\"text-align: right;\">\n",
       "      <th></th>\n",
       "      <th>lastTradeDate</th>\n",
       "      <th>strike</th>\n",
       "      <th>price</th>\n",
       "      <th>bid</th>\n",
       "      <th>ask</th>\n",
       "      <th>change</th>\n",
       "      <th>percentChange</th>\n",
       "      <th>volume</th>\n",
       "      <th>openInterest</th>\n",
       "      <th>sigma</th>\n",
       "      <th>...</th>\n",
       "      <th>returnOnAssets</th>\n",
       "      <th>returnOnEquity</th>\n",
       "      <th>freeCashflow</th>\n",
       "      <th>operatingCashflow</th>\n",
       "      <th>revenueGrowth</th>\n",
       "      <th>grossMargins</th>\n",
       "      <th>ebitdaMargins</th>\n",
       "      <th>operatingMargins</th>\n",
       "      <th>tau</th>\n",
       "      <th>tau2</th>\n",
       "    </tr>\n",
       "  </thead>\n",
       "  <tbody>\n",
       "    <tr>\n",
       "      <th>0</th>\n",
       "      <td>2024-07-05</td>\n",
       "      <td>2.5</td>\n",
       "      <td>0.50</td>\n",
       "      <td>14.84</td>\n",
       "      <td>14.92</td>\n",
       "      <td>0.0</td>\n",
       "      <td>0.0</td>\n",
       "      <td>88844.0</td>\n",
       "      <td>283.0</td>\n",
       "      <td>1.0036080322036183</td>\n",
       "      <td>...</td>\n",
       "      <td>0.01849</td>\n",
       "      <td>-0.01186</td>\n",
       "      <td>101813000.0</td>\n",
       "      <td>89253000.0</td>\n",
       "      <td>0.038</td>\n",
       "      <td>0.45766</td>\n",
       "      <td>0.14573</td>\n",
       "      <td>-0.03611</td>\n",
       "      <td>0.039683</td>\n",
       "      <td>0.038356</td>\n",
       "    </tr>\n",
       "    <tr>\n",
       "      <th>1</th>\n",
       "      <td>2024-06-28</td>\n",
       "      <td>5.0</td>\n",
       "      <td>0.05</td>\n",
       "      <td>14.84</td>\n",
       "      <td>14.92</td>\n",
       "      <td>0.0</td>\n",
       "      <td>0.0</td>\n",
       "      <td>88844.0</td>\n",
       "      <td>1527.0</td>\n",
       "      <td>1.0036080322036183</td>\n",
       "      <td>...</td>\n",
       "      <td>0.01849</td>\n",
       "      <td>-0.01186</td>\n",
       "      <td>101813000.0</td>\n",
       "      <td>89253000.0</td>\n",
       "      <td>0.038</td>\n",
       "      <td>0.45766</td>\n",
       "      <td>0.14573</td>\n",
       "      <td>-0.03611</td>\n",
       "      <td>0.059524</td>\n",
       "      <td>0.057534</td>\n",
       "    </tr>\n",
       "    <tr>\n",
       "      <th>2</th>\n",
       "      <td>2024-05-21</td>\n",
       "      <td>7.5</td>\n",
       "      <td>0.08</td>\n",
       "      <td>14.84</td>\n",
       "      <td>14.92</td>\n",
       "      <td>0.0</td>\n",
       "      <td>0.0</td>\n",
       "      <td>88844.0</td>\n",
       "      <td>3081.0</td>\n",
       "      <td>1.0036080322036183</td>\n",
       "      <td>...</td>\n",
       "      <td>0.01849</td>\n",
       "      <td>-0.01186</td>\n",
       "      <td>101813000.0</td>\n",
       "      <td>89253000.0</td>\n",
       "      <td>0.038</td>\n",
       "      <td>0.45766</td>\n",
       "      <td>0.14573</td>\n",
       "      <td>-0.03611</td>\n",
       "      <td>0.170635</td>\n",
       "      <td>0.161644</td>\n",
       "    </tr>\n",
       "    <tr>\n",
       "      <th>3</th>\n",
       "      <td>2024-06-27</td>\n",
       "      <td>2.5</td>\n",
       "      <td>0.10</td>\n",
       "      <td>14.84</td>\n",
       "      <td>14.92</td>\n",
       "      <td>0.0</td>\n",
       "      <td>0.0</td>\n",
       "      <td>88844.0</td>\n",
       "      <td>297.0</td>\n",
       "      <td>1.0036080322036183</td>\n",
       "      <td>...</td>\n",
       "      <td>0.01849</td>\n",
       "      <td>-0.01186</td>\n",
       "      <td>101813000.0</td>\n",
       "      <td>89253000.0</td>\n",
       "      <td>0.038</td>\n",
       "      <td>0.45766</td>\n",
       "      <td>0.14573</td>\n",
       "      <td>-0.03611</td>\n",
       "      <td>0.063492</td>\n",
       "      <td>0.060274</td>\n",
       "    </tr>\n",
       "    <tr>\n",
       "      <th>4</th>\n",
       "      <td>2024-06-07</td>\n",
       "      <td>5.0</td>\n",
       "      <td>2.10</td>\n",
       "      <td>14.84</td>\n",
       "      <td>14.92</td>\n",
       "      <td>0.0</td>\n",
       "      <td>0.0</td>\n",
       "      <td>88844.0</td>\n",
       "      <td>0.0</td>\n",
       "      <td>1.0036080322036183</td>\n",
       "      <td>...</td>\n",
       "      <td>0.01849</td>\n",
       "      <td>-0.01186</td>\n",
       "      <td>101813000.0</td>\n",
       "      <td>89253000.0</td>\n",
       "      <td>0.038</td>\n",
       "      <td>0.45766</td>\n",
       "      <td>0.14573</td>\n",
       "      <td>-0.03611</td>\n",
       "      <td>0.119048</td>\n",
       "      <td>0.115068</td>\n",
       "    </tr>\n",
       "    <tr>\n",
       "      <th>...</th>\n",
       "      <td>...</td>\n",
       "      <td>...</td>\n",
       "      <td>...</td>\n",
       "      <td>...</td>\n",
       "      <td>...</td>\n",
       "      <td>...</td>\n",
       "      <td>...</td>\n",
       "      <td>...</td>\n",
       "      <td>...</td>\n",
       "      <td>...</td>\n",
       "      <td>...</td>\n",
       "      <td>...</td>\n",
       "      <td>...</td>\n",
       "      <td>...</td>\n",
       "      <td>...</td>\n",
       "      <td>...</td>\n",
       "      <td>...</td>\n",
       "      <td>...</td>\n",
       "      <td>...</td>\n",
       "      <td>...</td>\n",
       "      <td>...</td>\n",
       "    </tr>\n",
       "    <tr>\n",
       "      <th>2969</th>\n",
       "      <td>2024-01-30</td>\n",
       "      <td>12.5</td>\n",
       "      <td>3.20</td>\n",
       "      <td>14.84</td>\n",
       "      <td>14.92</td>\n",
       "      <td>0.0</td>\n",
       "      <td>0.0</td>\n",
       "      <td>88844.0</td>\n",
       "      <td>3.0</td>\n",
       "      <td>0.48814059128982695</td>\n",
       "      <td>...</td>\n",
       "      <td>0.01849</td>\n",
       "      <td>-0.01186</td>\n",
       "      <td>101813000.0</td>\n",
       "      <td>89253000.0</td>\n",
       "      <td>0.038</td>\n",
       "      <td>0.45766</td>\n",
       "      <td>0.14573</td>\n",
       "      <td>-0.03611</td>\n",
       "      <td>0.567460</td>\n",
       "      <td>0.545205</td>\n",
       "    </tr>\n",
       "    <tr>\n",
       "      <th>2970</th>\n",
       "      <td>2024-03-01</td>\n",
       "      <td>17.5</td>\n",
       "      <td>0.30</td>\n",
       "      <td>14.84</td>\n",
       "      <td>14.92</td>\n",
       "      <td>0.0</td>\n",
       "      <td>0.0</td>\n",
       "      <td>88844.0</td>\n",
       "      <td>1.0</td>\n",
       "      <td>0.48814059128982695</td>\n",
       "      <td>...</td>\n",
       "      <td>0.01849</td>\n",
       "      <td>-0.01186</td>\n",
       "      <td>101813000.0</td>\n",
       "      <td>89253000.0</td>\n",
       "      <td>0.038</td>\n",
       "      <td>0.45766</td>\n",
       "      <td>0.14573</td>\n",
       "      <td>-0.03611</td>\n",
       "      <td>0.476190</td>\n",
       "      <td>0.460274</td>\n",
       "    </tr>\n",
       "    <tr>\n",
       "      <th>2971</th>\n",
       "      <td>2024-02-29</td>\n",
       "      <td>10.0</td>\n",
       "      <td>0.05</td>\n",
       "      <td>14.84</td>\n",
       "      <td>14.92</td>\n",
       "      <td>0.0</td>\n",
       "      <td>0.0</td>\n",
       "      <td>88844.0</td>\n",
       "      <td>2.0</td>\n",
       "      <td>0.48814059128982695</td>\n",
       "      <td>...</td>\n",
       "      <td>0.01849</td>\n",
       "      <td>-0.01186</td>\n",
       "      <td>101813000.0</td>\n",
       "      <td>89253000.0</td>\n",
       "      <td>0.038</td>\n",
       "      <td>0.45766</td>\n",
       "      <td>0.14573</td>\n",
       "      <td>-0.03611</td>\n",
       "      <td>0.480159</td>\n",
       "      <td>0.463014</td>\n",
       "    </tr>\n",
       "    <tr>\n",
       "      <th>2972</th>\n",
       "      <td>2024-02-23</td>\n",
       "      <td>12.5</td>\n",
       "      <td>1.45</td>\n",
       "      <td>14.84</td>\n",
       "      <td>14.92</td>\n",
       "      <td>0.0</td>\n",
       "      <td>0.0</td>\n",
       "      <td>88844.0</td>\n",
       "      <td>1.0</td>\n",
       "      <td>0.48814059128982695</td>\n",
       "      <td>...</td>\n",
       "      <td>0.01849</td>\n",
       "      <td>-0.01186</td>\n",
       "      <td>101813000.0</td>\n",
       "      <td>89253000.0</td>\n",
       "      <td>0.038</td>\n",
       "      <td>0.45766</td>\n",
       "      <td>0.14573</td>\n",
       "      <td>-0.03611</td>\n",
       "      <td>0.496032</td>\n",
       "      <td>0.479452</td>\n",
       "    </tr>\n",
       "    <tr>\n",
       "      <th>2973</th>\n",
       "      <td>2024-03-12</td>\n",
       "      <td>17.5</td>\n",
       "      <td>2.15</td>\n",
       "      <td>14.84</td>\n",
       "      <td>14.92</td>\n",
       "      <td>0.0</td>\n",
       "      <td>0.0</td>\n",
       "      <td>88844.0</td>\n",
       "      <td>11.0</td>\n",
       "      <td>0.48814059128982695</td>\n",
       "      <td>...</td>\n",
       "      <td>0.01849</td>\n",
       "      <td>-0.01186</td>\n",
       "      <td>101813000.0</td>\n",
       "      <td>89253000.0</td>\n",
       "      <td>0.038</td>\n",
       "      <td>0.45766</td>\n",
       "      <td>0.14573</td>\n",
       "      <td>-0.03611</td>\n",
       "      <td>0.448413</td>\n",
       "      <td>0.430137</td>\n",
       "    </tr>\n",
       "  </tbody>\n",
       "</table>\n",
       "<p>2974 rows × 114 columns</p>\n",
       "</div>"
      ],
      "text/plain": [
       "     lastTradeDate  strike  price    bid    ask  change  percentChange  \\\n",
       "0       2024-07-05     2.5   0.50  14.84  14.92     0.0            0.0   \n",
       "1       2024-06-28     5.0   0.05  14.84  14.92     0.0            0.0   \n",
       "2       2024-05-21     7.5   0.08  14.84  14.92     0.0            0.0   \n",
       "3       2024-06-27     2.5   0.10  14.84  14.92     0.0            0.0   \n",
       "4       2024-06-07     5.0   2.10  14.84  14.92     0.0            0.0   \n",
       "...            ...     ...    ...    ...    ...     ...            ...   \n",
       "2969    2024-01-30    12.5   3.20  14.84  14.92     0.0            0.0   \n",
       "2970    2024-03-01    17.5   0.30  14.84  14.92     0.0            0.0   \n",
       "2971    2024-02-29    10.0   0.05  14.84  14.92     0.0            0.0   \n",
       "2972    2024-02-23    12.5   1.45  14.84  14.92     0.0            0.0   \n",
       "2973    2024-03-12    17.5   2.15  14.84  14.92     0.0            0.0   \n",
       "\n",
       "       volume  openInterest                sigma  ... returnOnAssets  \\\n",
       "0     88844.0         283.0   1.0036080322036183  ...        0.01849   \n",
       "1     88844.0        1527.0   1.0036080322036183  ...        0.01849   \n",
       "2     88844.0        3081.0   1.0036080322036183  ...        0.01849   \n",
       "3     88844.0         297.0   1.0036080322036183  ...        0.01849   \n",
       "4     88844.0           0.0   1.0036080322036183  ...        0.01849   \n",
       "...       ...           ...                  ...  ...            ...   \n",
       "2969  88844.0           3.0  0.48814059128982695  ...        0.01849   \n",
       "2970  88844.0           1.0  0.48814059128982695  ...        0.01849   \n",
       "2971  88844.0           2.0  0.48814059128982695  ...        0.01849   \n",
       "2972  88844.0           1.0  0.48814059128982695  ...        0.01849   \n",
       "2973  88844.0          11.0  0.48814059128982695  ...        0.01849   \n",
       "\n",
       "     returnOnEquity  freeCashflow operatingCashflow  revenueGrowth  \\\n",
       "0          -0.01186   101813000.0        89253000.0          0.038   \n",
       "1          -0.01186   101813000.0        89253000.0          0.038   \n",
       "2          -0.01186   101813000.0        89253000.0          0.038   \n",
       "3          -0.01186   101813000.0        89253000.0          0.038   \n",
       "4          -0.01186   101813000.0        89253000.0          0.038   \n",
       "...             ...           ...               ...            ...   \n",
       "2969       -0.01186   101813000.0        89253000.0          0.038   \n",
       "2970       -0.01186   101813000.0        89253000.0          0.038   \n",
       "2971       -0.01186   101813000.0        89253000.0          0.038   \n",
       "2972       -0.01186   101813000.0        89253000.0          0.038   \n",
       "2973       -0.01186   101813000.0        89253000.0          0.038   \n",
       "\n",
       "     grossMargins ebitdaMargins operatingMargins       tau      tau2  \n",
       "0         0.45766       0.14573         -0.03611  0.039683  0.038356  \n",
       "1         0.45766       0.14573         -0.03611  0.059524  0.057534  \n",
       "2         0.45766       0.14573         -0.03611  0.170635  0.161644  \n",
       "3         0.45766       0.14573         -0.03611  0.063492  0.060274  \n",
       "4         0.45766       0.14573         -0.03611  0.119048  0.115068  \n",
       "...           ...           ...              ...       ...       ...  \n",
       "2969      0.45766       0.14573         -0.03611  0.567460  0.545205  \n",
       "2970      0.45766       0.14573         -0.03611  0.476190  0.460274  \n",
       "2971      0.45766       0.14573         -0.03611  0.480159  0.463014  \n",
       "2972      0.45766       0.14573         -0.03611  0.496032  0.479452  \n",
       "2973      0.45766       0.14573         -0.03611  0.448413  0.430137  \n",
       "\n",
       "[2974 rows x 114 columns]"
      ]
     },
     "execution_count": 63,
     "metadata": {},
     "output_type": "execute_result"
    }
   ],
   "source": [
    "import pandas as pd\n",
    "\n",
    "data = pd.read_csv('../../Data/performance_data.csv',low_memory=False)\n",
    "data.drop(\"Unnamed: 0\", axis = 1, inplace = True)\n",
    "data"
   ]
  },
  {
   "cell_type": "markdown",
   "id": "efc81f0b",
   "metadata": {},
   "source": [
    "# Black and Scholes performance"
   ]
  },
  {
   "cell_type": "code",
   "execution_count": 64,
   "id": "474ea56e",
   "metadata": {},
   "outputs": [],
   "source": [
    "bs_variables = [\n",
    "    'strike',\n",
    "    'stock',\n",
    "    'tau',\n",
    "    'sigma',\n",
    "    'price',\n",
    "    'call',\n",
    "    'ticker'\n",
    "]\n",
    "\n",
    "bs_data = data[bs_variables]"
   ]
  },
  {
   "cell_type": "code",
   "execution_count": 65,
   "id": "98045563-84ec-4177-a70d-413c4ffde5e5",
   "metadata": {
    "tags": []
   },
   "outputs": [],
   "source": [
    "call_data = bs_data[bs_data['call'] == 1]\n",
    "put_data = bs_data[bs_data['call'] == 0]\n",
    "\n",
    "call_data = call_data.drop(columns=['call'])\n",
    "put_data = put_data.drop(columns=['call'])"
   ]
  },
  {
   "cell_type": "code",
   "execution_count": 66,
   "id": "d99e6a7e-d560-4d13-bf09-91d1736e9610",
   "metadata": {
    "tags": []
   },
   "outputs": [
    {
     "ename": "TypeError",
     "evalue": "unsupported operand type(s) for ** or pow(): 'str' and 'int'",
     "output_type": "error",
     "traceback": [
      "\u001b[1;31m---------------------------------------------------------------------------\u001b[0m",
      "\u001b[1;31mTypeError\u001b[0m                                 Traceback (most recent call last)",
      "Cell \u001b[1;32mIn[66], line 38\u001b[0m\n\u001b[0;32m     33\u001b[0m     put_price \u001b[38;5;241m=\u001b[39m K \u001b[38;5;241m*\u001b[39m np\u001b[38;5;241m.\u001b[39mexp(\u001b[38;5;241m-\u001b[39mr \u001b[38;5;241m*\u001b[39m tau) \u001b[38;5;241m*\u001b[39m norm\u001b[38;5;241m.\u001b[39mcdf(\u001b[38;5;241m-\u001b[39md2) \u001b[38;5;241m-\u001b[39m S \u001b[38;5;241m*\u001b[39mnorm\u001b[38;5;241m.\u001b[39mcdf(\u001b[38;5;241m-\u001b[39md1)\n\u001b[0;32m     35\u001b[0m     \u001b[38;5;28;01mreturn\u001b[39;00m put_price\n\u001b[1;32m---> 38\u001b[0m call_data[\u001b[38;5;124m'\u001b[39m\u001b[38;5;124mBS\u001b[39m\u001b[38;5;124m'\u001b[39m] \u001b[38;5;241m=\u001b[39m call_data\u001b[38;5;241m.\u001b[39mapply(black_scholes_call, axis\u001b[38;5;241m=\u001b[39m\u001b[38;5;241m1\u001b[39m)\n\u001b[0;32m     39\u001b[0m put_data[\u001b[38;5;124m'\u001b[39m\u001b[38;5;124mBS\u001b[39m\u001b[38;5;124m'\u001b[39m] \u001b[38;5;241m=\u001b[39m put_data\u001b[38;5;241m.\u001b[39mapply(black_scholes_put, axis\u001b[38;5;241m=\u001b[39m\u001b[38;5;241m1\u001b[39m)\n",
      "File \u001b[1;32mc:\\Users\\Domenico\\anaconda3\\Lib\\site-packages\\pandas\\core\\frame.py:10034\u001b[0m, in \u001b[0;36mDataFrame.apply\u001b[1;34m(self, func, axis, raw, result_type, args, by_row, **kwargs)\u001b[0m\n\u001b[0;32m  10022\u001b[0m \u001b[38;5;28;01mfrom\u001b[39;00m \u001b[38;5;21;01mpandas\u001b[39;00m\u001b[38;5;21;01m.\u001b[39;00m\u001b[38;5;21;01mcore\u001b[39;00m\u001b[38;5;21;01m.\u001b[39;00m\u001b[38;5;21;01mapply\u001b[39;00m \u001b[38;5;28;01mimport\u001b[39;00m frame_apply\n\u001b[0;32m  10024\u001b[0m op \u001b[38;5;241m=\u001b[39m frame_apply(\n\u001b[0;32m  10025\u001b[0m     \u001b[38;5;28mself\u001b[39m,\n\u001b[0;32m  10026\u001b[0m     func\u001b[38;5;241m=\u001b[39mfunc,\n\u001b[1;32m   (...)\u001b[0m\n\u001b[0;32m  10032\u001b[0m     kwargs\u001b[38;5;241m=\u001b[39mkwargs,\n\u001b[0;32m  10033\u001b[0m )\n\u001b[1;32m> 10034\u001b[0m \u001b[38;5;28;01mreturn\u001b[39;00m op\u001b[38;5;241m.\u001b[39mapply()\u001b[38;5;241m.\u001b[39m__finalize__(\u001b[38;5;28mself\u001b[39m, method\u001b[38;5;241m=\u001b[39m\u001b[38;5;124m\"\u001b[39m\u001b[38;5;124mapply\u001b[39m\u001b[38;5;124m\"\u001b[39m)\n",
      "File \u001b[1;32mc:\\Users\\Domenico\\anaconda3\\Lib\\site-packages\\pandas\\core\\apply.py:837\u001b[0m, in \u001b[0;36mFrameApply.apply\u001b[1;34m(self)\u001b[0m\n\u001b[0;32m    834\u001b[0m \u001b[38;5;28;01melif\u001b[39;00m \u001b[38;5;28mself\u001b[39m\u001b[38;5;241m.\u001b[39mraw:\n\u001b[0;32m    835\u001b[0m     \u001b[38;5;28;01mreturn\u001b[39;00m \u001b[38;5;28mself\u001b[39m\u001b[38;5;241m.\u001b[39mapply_raw()\n\u001b[1;32m--> 837\u001b[0m \u001b[38;5;28;01mreturn\u001b[39;00m \u001b[38;5;28mself\u001b[39m\u001b[38;5;241m.\u001b[39mapply_standard()\n",
      "File \u001b[1;32mc:\\Users\\Domenico\\anaconda3\\Lib\\site-packages\\pandas\\core\\apply.py:965\u001b[0m, in \u001b[0;36mFrameApply.apply_standard\u001b[1;34m(self)\u001b[0m\n\u001b[0;32m    964\u001b[0m \u001b[38;5;28;01mdef\u001b[39;00m \u001b[38;5;21mapply_standard\u001b[39m(\u001b[38;5;28mself\u001b[39m):\n\u001b[1;32m--> 965\u001b[0m     results, res_index \u001b[38;5;241m=\u001b[39m \u001b[38;5;28mself\u001b[39m\u001b[38;5;241m.\u001b[39mapply_series_generator()\n\u001b[0;32m    967\u001b[0m     \u001b[38;5;66;03m# wrap results\u001b[39;00m\n\u001b[0;32m    968\u001b[0m     \u001b[38;5;28;01mreturn\u001b[39;00m \u001b[38;5;28mself\u001b[39m\u001b[38;5;241m.\u001b[39mwrap_results(results, res_index)\n",
      "File \u001b[1;32mc:\\Users\\Domenico\\anaconda3\\Lib\\site-packages\\pandas\\core\\apply.py:981\u001b[0m, in \u001b[0;36mFrameApply.apply_series_generator\u001b[1;34m(self)\u001b[0m\n\u001b[0;32m    978\u001b[0m \u001b[38;5;28;01mwith\u001b[39;00m option_context(\u001b[38;5;124m\"\u001b[39m\u001b[38;5;124mmode.chained_assignment\u001b[39m\u001b[38;5;124m\"\u001b[39m, \u001b[38;5;28;01mNone\u001b[39;00m):\n\u001b[0;32m    979\u001b[0m     \u001b[38;5;28;01mfor\u001b[39;00m i, v \u001b[38;5;129;01min\u001b[39;00m \u001b[38;5;28menumerate\u001b[39m(series_gen):\n\u001b[0;32m    980\u001b[0m         \u001b[38;5;66;03m# ignore SettingWithCopy here in case the user mutates\u001b[39;00m\n\u001b[1;32m--> 981\u001b[0m         results[i] \u001b[38;5;241m=\u001b[39m \u001b[38;5;28mself\u001b[39m\u001b[38;5;241m.\u001b[39mfunc(v, \u001b[38;5;241m*\u001b[39m\u001b[38;5;28mself\u001b[39m\u001b[38;5;241m.\u001b[39margs, \u001b[38;5;241m*\u001b[39m\u001b[38;5;241m*\u001b[39m\u001b[38;5;28mself\u001b[39m\u001b[38;5;241m.\u001b[39mkwargs)\n\u001b[0;32m    982\u001b[0m         \u001b[38;5;28;01mif\u001b[39;00m \u001b[38;5;28misinstance\u001b[39m(results[i], ABCSeries):\n\u001b[0;32m    983\u001b[0m             \u001b[38;5;66;03m# If we have a view on v, we need to make a copy because\u001b[39;00m\n\u001b[0;32m    984\u001b[0m             \u001b[38;5;66;03m#  series_generator will swap out the underlying data\u001b[39;00m\n\u001b[0;32m    985\u001b[0m             results[i] \u001b[38;5;241m=\u001b[39m results[i]\u001b[38;5;241m.\u001b[39mcopy(deep\u001b[38;5;241m=\u001b[39m\u001b[38;5;28;01mFalse\u001b[39;00m)\n",
      "Cell \u001b[1;32mIn[66], line 14\u001b[0m, in \u001b[0;36mblack_scholes_call\u001b[1;34m(row)\u001b[0m\n\u001b[0;32m     10\u001b[0m r \u001b[38;5;241m=\u001b[39m \u001b[38;5;241m0.425\u001b[39m\n\u001b[0;32m     11\u001b[0m sigma \u001b[38;5;241m=\u001b[39m row[\u001b[38;5;124m'\u001b[39m\u001b[38;5;124msigma\u001b[39m\u001b[38;5;124m'\u001b[39m]\n\u001b[1;32m---> 14\u001b[0m d1 \u001b[38;5;241m=\u001b[39m (np\u001b[38;5;241m.\u001b[39mlog(S \u001b[38;5;241m/\u001b[39m K) \u001b[38;5;241m+\u001b[39m (r \u001b[38;5;241m+\u001b[39m \u001b[38;5;241m0.5\u001b[39m \u001b[38;5;241m*\u001b[39m sigma \u001b[38;5;241m*\u001b[39m\u001b[38;5;241m*\u001b[39m \u001b[38;5;241m2\u001b[39m) \u001b[38;5;241m*\u001b[39m tau) \u001b[38;5;241m/\u001b[39m (sigma \u001b[38;5;241m*\u001b[39m np\u001b[38;5;241m.\u001b[39msqrt(tau))\n\u001b[0;32m     15\u001b[0m d2 \u001b[38;5;241m=\u001b[39m d1 \u001b[38;5;241m-\u001b[39m sigma \u001b[38;5;241m*\u001b[39m np\u001b[38;5;241m.\u001b[39msqrt(tau)\n\u001b[0;32m     17\u001b[0m call_price \u001b[38;5;241m=\u001b[39m S \u001b[38;5;241m*\u001b[39m norm\u001b[38;5;241m.\u001b[39mcdf(d1) \u001b[38;5;241m-\u001b[39m K \u001b[38;5;241m*\u001b[39m np\u001b[38;5;241m.\u001b[39mexp(\u001b[38;5;241m-\u001b[39mr \u001b[38;5;241m*\u001b[39m tau) \u001b[38;5;241m*\u001b[39m norm\u001b[38;5;241m.\u001b[39mcdf(d2)\n",
      "\u001b[1;31mTypeError\u001b[0m: unsupported operand type(s) for ** or pow(): 'str' and 'int'"
     ]
    }
   ],
   "source": [
    "import numpy as np\n",
    "from scipy.stats import norm\n",
    "from datetime import datetime\n",
    "\n",
    "def black_scholes_call(row):\n",
    "    \n",
    "    S = row['stock']\n",
    "    K = row['strike']\n",
    "    tau = row['tau']\n",
    "    r = 0.425\n",
    "    sigma = row['sigma']\n",
    "    \n",
    "    \n",
    "    d1 = (np.log(S / K) + (r + 0.5 * sigma ** 2) * tau) / (sigma * np.sqrt(tau))\n",
    "    d2 = d1 - sigma * np.sqrt(tau)\n",
    "\n",
    "    call_price = S * norm.cdf(d1) - K * np.exp(-r * tau) * norm.cdf(d2)\n",
    "\n",
    "    return call_price\n",
    "\n",
    "def black_scholes_put(row):\n",
    "    \n",
    "    S = row['stock'] \n",
    "    K = row['strike'] \n",
    "    tau = row['tau'] \n",
    "    r = 0.425\n",
    "    sigma = row['sigma'] *2\n",
    "    \n",
    "\n",
    "    d1 = (np.log(S / K) + (r + 0.5 * sigma ** 2) * tau) / (sigma * np.sqrt(tau))\n",
    "    d2 = d1 - sigma * np.sqrt(tau)\n",
    "\n",
    "    put_price = K * np.exp(-r * tau) * norm.cdf(-d2) - S *norm.cdf(-d1)\n",
    "\n",
    "    return put_price\n",
    "\n",
    "\n",
    "call_data['BS'] = call_data.apply(black_scholes_call, axis=1)\n",
    "put_data['BS'] = put_data.apply(black_scholes_put, axis=1)"
   ]
  },
  {
   "cell_type": "code",
   "execution_count": null,
   "id": "49ea1343",
   "metadata": {},
   "outputs": [],
   "source": [
    "import matplotlib.pyplot as plt\n",
    "\n",
    "# Extract actual and predicted prices\n",
    "actual_prices = call_data['price']\n",
    "predicted_prices = call_data['BS']\n",
    "\n",
    "# Plot the results\n",
    "plt.figure(figsize=(12, 6))\n",
    "plt.plot(actual_prices, label=\"Actual Prices\", color=\"blue\", linewidth=2)\n",
    "plt.plot(predicted_prices, label=\"Black-Scholes (Predicted Prices)\", color=\"red\", linestyle=\"--\", linewidth=2)\n",
    "\n",
    "# Add title and labels\n",
    "plt.title(\"Comparison of Actual Prices vs Black-Scholes Predicted Prices\", fontsize=16)\n",
    "plt.xlabel(\"Index\", fontsize=14)\n",
    "plt.ylabel(\"Price\", fontsize=14)\n",
    "\n",
    "# Add legend\n",
    "plt.legend(fontsize=12)\n",
    "\n",
    "# Add grid\n",
    "plt.grid(color=\"gray\", linestyle=\"--\", linewidth=0.5)\n",
    "\n",
    "# Display the plot\n",
    "plt.show()\n"
   ]
  },
  {
   "cell_type": "markdown",
   "id": "ccbfd477",
   "metadata": {},
   "source": [
    "### Evaluating performance for call options"
   ]
  },
  {
   "cell_type": "code",
   "execution_count": 50,
   "id": "531704ba-1ad9-475d-9c62-f0505ad69cf5",
   "metadata": {
    "tags": []
   },
   "outputs": [
    {
     "name": "stdout",
     "output_type": "stream",
     "text": [
      "Mean Squared Error (MSE): 27.006360501731802\n",
      "Root Mean Squared Error (RMSE): 5.19676442623021\n",
      "Mean Absolute Error (MAE): 2.0569773979373718\n",
      "Mean Absolute Percentage Error (MAPE): 519.8764612354997\n",
      "R-squared: 0.8338372920448471\n"
     ]
    }
   ],
   "source": [
    "import numpy as np\n",
    "from sklearn.metrics import mean_squared_error, mean_absolute_error, r2_score\n",
    "import pandas as pd\n",
    "\n",
    "# Calculate Mean Squared Error (MSE)\n",
    "call_mse = mean_squared_error(call_data['price'], call_data['BS'])\n",
    "\n",
    "# Calculate Root Mean Squared Error (RMSE)\n",
    "call_rmse = np.sqrt(call_mse)\n",
    "\n",
    "# Calculate Mean Absolute Error (MAE)\n",
    "call_mae = mean_absolute_error(call_data['price'], call_data['BS'])\n",
    "\n",
    "# Calculate Mean Absolute Percentage Error (MAPE)\n",
    "call_mape = np.mean(np.abs((call_data['price'] - call_data['BS']) / call_data['price'])) * 100\n",
    "\n",
    "# Calculate R-squared\n",
    "call_r_squared = r2_score(call_data['price'], call_data['BS'])\n",
    "\n",
    "print(\"Mean Squared Error (MSE):\", call_mse)\n",
    "print(\"Root Mean Squared Error (RMSE):\", call_rmse)\n",
    "print(\"Mean Absolute Error (MAE):\", call_mae)\n",
    "print(\"Mean Absolute Percentage Error (MAPE):\", call_mape)\n",
    "print(\"R-squared:\", call_r_squared)\n"
   ]
  },
  {
   "cell_type": "markdown",
   "id": "fd477502",
   "metadata": {},
   "source": [
    "### Evaluating performance for put option"
   ]
  },
  {
   "cell_type": "code",
   "execution_count": 51,
   "id": "1086778a-e1d6-4437-b0c9-8e5b910cc225",
   "metadata": {
    "tags": []
   },
   "outputs": [
    {
     "name": "stdout",
     "output_type": "stream",
     "text": [
      "Mean Squared Error (MSE): 20.65310928398209\n",
      "Root Mean Squared Error (RMSE): 4.544569207744788\n",
      "Mean Absolute Error (MAE): 1.9206055382638223\n",
      "Mean Absolute Percentage Error (MAPE): 242.00184295392435\n",
      "R-squared: 0.7626551081788219\n"
     ]
    }
   ],
   "source": [
    "import numpy as np\n",
    "from sklearn.metrics import mean_squared_error, mean_absolute_error, r2_score\n",
    "import pandas as pd\n",
    "\n",
    "# Calculate Mean Squared Error (MSE)\n",
    "put_mse = mean_squared_error(put_data['price'], put_data['BS'])\n",
    "\n",
    "# Calculate Root Mean Squared Error (RMSE)\n",
    "put_rmse = np.sqrt(put_mse)\n",
    "\n",
    "# Calculate Mean Absolute Error (MAE)\n",
    "put_mae = mean_absolute_error(put_data['price'], put_data['BS'])\n",
    "\n",
    "# Calculate Mean Absolute Percentage Error (MAPE)\n",
    "put_mape = np.mean(np.abs((put_data['price'] - put_data['BS']) / put_data['price'])) * 100\n",
    "\n",
    "# Calculate R-squared\n",
    "put_r_squared = r2_score(put_data['price'], put_data['BS'])\n",
    "\n",
    "print(\"Mean Squared Error (MSE):\", put_mse)\n",
    "print(\"Root Mean Squared Error (RMSE):\", put_rmse)\n",
    "print(\"Mean Absolute Error (MAE):\", put_mae)\n",
    "print(\"Mean Absolute Percentage Error (MAPE):\", put_mape)\n",
    "print(\"R-squared:\", put_r_squared)\n"
   ]
  },
  {
   "cell_type": "markdown",
   "id": "b348b87a",
   "metadata": {},
   "source": [
    "# ANN1 performance"
   ]
  },
  {
   "cell_type": "code",
   "execution_count": 2,
   "id": "02ad76c8",
   "metadata": {},
   "outputs": [],
   "source": [
    "ann1_variables = [\n",
    "    'strike',\n",
    "    'stock',\n",
    "    'tau',\n",
    "    'sigma',\n",
    "    'price',\n",
    "    'call',\n",
    "]\n",
    "\n",
    "ann1_data = data[ann1_variables]"
   ]
  },
  {
   "cell_type": "code",
   "execution_count": 3,
   "id": "2301c01a",
   "metadata": {},
   "outputs": [
    {
     "name": "stderr",
     "output_type": "stream",
     "text": [
      "C:\\Users\\domen\\AppData\\Local\\Temp\\ipykernel_4440\\937040749.py:4: SettingWithCopyWarning: \n",
      "A value is trying to be set on a copy of a slice from a DataFrame\n",
      "\n",
      "See the caveats in the documentation: https://pandas.pydata.org/pandas-docs/stable/user_guide/indexing.html#returning-a-view-versus-a-copy\n",
      "  ann1_call_data.drop('call', axis = 1, inplace = True)\n",
      "C:\\Users\\domen\\AppData\\Local\\Temp\\ipykernel_4440\\937040749.py:5: SettingWithCopyWarning: \n",
      "A value is trying to be set on a copy of a slice from a DataFrame\n",
      "\n",
      "See the caveats in the documentation: https://pandas.pydata.org/pandas-docs/stable/user_guide/indexing.html#returning-a-view-versus-a-copy\n",
      "  ann1_put_data.drop('call', axis = 1, inplace = True)\n"
     ]
    }
   ],
   "source": [
    "ann1_call_data = ann1_data[ann1_data.call == 1]\n",
    "ann1_put_data = ann1_data[ann1_data.call == 0]\n",
    "\n",
    "ann1_call_data.drop('call', axis = 1, inplace = True)\n",
    "ann1_put_data.drop('call', axis = 1, inplace = True)"
   ]
  },
  {
   "cell_type": "code",
   "execution_count": null,
   "id": "f91ec84c",
   "metadata": {},
   "outputs": [],
   "source": [
    "from keras.models import load_model\n",
    "\n",
    "# Load the model\n",
    "ANN1_call = load_model('models\\\\ann1\\\\ANN1_call.keras')\n",
    "ANN1_put = load_model('models\\\\ann1\\\\ANN1_put.keras')"
   ]
  },
  {
   "cell_type": "code",
   "execution_count": 61,
   "id": "85a1a230",
   "metadata": {},
   "outputs": [
    {
     "name": "stdout",
     "output_type": "stream",
     "text": [
      "\u001b[1m 1/50\u001b[0m \u001b[37m━━━━━━━━━━━━━━━━━━━━\u001b[0m \u001b[1m3s\u001b[0m 68ms/step"
     ]
    },
    {
     "name": "stderr",
     "output_type": "stream",
     "text": [
      "C:\\Users\\Domenico\\AppData\\Local\\Temp\\ipykernel_14624\\3243053610.py:2: SettingWithCopyWarning: \n",
      "A value is trying to be set on a copy of a slice from a DataFrame\n",
      "\n",
      "See the caveats in the documentation: https://pandas.pydata.org/pandas-docs/stable/user_guide/indexing.html#returning-a-view-versus-a-copy\n",
      "  ann1_call_data.drop('price', axis = 1, inplace = True)\n"
     ]
    },
    {
     "name": "stdout",
     "output_type": "stream",
     "text": [
      "\u001b[1m50/50\u001b[0m \u001b[32m━━━━━━━━━━━━━━━━━━━━\u001b[0m\u001b[37m\u001b[0m \u001b[1m0s\u001b[0m 2ms/step\n"
     ]
    },
    {
     "name": "stderr",
     "output_type": "stream",
     "text": [
      "C:\\Users\\Domenico\\AppData\\Local\\Temp\\ipykernel_14624\\3243053610.py:6: SettingWithCopyWarning: \n",
      "A value is trying to be set on a copy of a slice from a DataFrame.\n",
      "Try using .loc[row_indexer,col_indexer] = value instead\n",
      "\n",
      "See the caveats in the documentation: https://pandas.pydata.org/pandas-docs/stable/user_guide/indexing.html#returning-a-view-versus-a-copy\n",
      "  ann1_call_data['price'] = y_call\n",
      "C:\\Users\\Domenico\\AppData\\Local\\Temp\\ipykernel_14624\\3243053610.py:7: SettingWithCopyWarning: \n",
      "A value is trying to be set on a copy of a slice from a DataFrame.\n",
      "Try using .loc[row_indexer,col_indexer] = value instead\n",
      "\n",
      "See the caveats in the documentation: https://pandas.pydata.org/pandas-docs/stable/user_guide/indexing.html#returning-a-view-versus-a-copy\n",
      "  ann1_call_data['ann1'] = y_pred\n"
     ]
    }
   ],
   "source": [
    "y_call = ann1_call_data['price']\n",
    "ann1_call_data.drop('price', axis = 1, inplace = True)\n",
    "\n",
    "y_pred = ANN1_call.predict(ann1_call_data)\n",
    "\n",
    "ann1_call_data['price'] = y_call\n",
    "ann1_call_data['ann1'] = y_pred\n"
   ]
  },
  {
   "cell_type": "code",
   "execution_count": 62,
   "id": "40d0d745",
   "metadata": {},
   "outputs": [
    {
     "name": "stdout",
     "output_type": "stream",
     "text": [
      "Mean Squared Error (MSE): 26.04684021924003\n",
      "Root Mean Squared Error (RMSE): 5.103610508183401\n",
      "Mean Absolute Error (MAE): 2.196695342426288\n",
      "Mean Absolute Percentage Error (MAPE): 737.9990331080295\n",
      "R-squared: 0.8397409564229665\n"
     ]
    }
   ],
   "source": [
    "import numpy as np\n",
    "from sklearn.metrics import mean_squared_error, mean_absolute_error, r2_score\n",
    "import pandas as pd\n",
    "\n",
    "# Calculate Mean Squared Error (MSE)\n",
    "ANN1_call_mse = mean_squared_error(ann1_call_data['price'],ann1_call_data['ann1'])\n",
    "\n",
    "# Calculate Root Mean Squared Error (RMSE)\n",
    "ANN1_call_rmse = np.sqrt(ANN1_call_mse)\n",
    "\n",
    "# Calculate Mean Absolute Error (MAE)\n",
    "ANN1_call_mae = mean_absolute_error(ann1_call_data['price'], ann1_call_data['ann1'])\n",
    "\n",
    "# Calculate Mean Absolute Percentage Error (MAPE)\n",
    "ANN1_call_mape = np.mean(np.abs((ann1_call_data['price'] - ann1_call_data['ann1']) / ann1_call_data['price'])) * 100\n",
    "\n",
    "# Calculate R-squared\n",
    "ANN1_call_r_squared = r2_score(ann1_call_data['price'], ann1_call_data['ann1'])\n",
    "\n",
    "print(\"Mean Squared Error (MSE):\", ANN1_call_mse)\n",
    "print(\"Root Mean Squared Error (RMSE):\", ANN1_call_rmse)\n",
    "print(\"Mean Absolute Error (MAE):\", ANN1_call_mae)\n",
    "print(\"Mean Absolute Percentage Error (MAPE):\", ANN1_call_mape)\n",
    "print(\"R-squared:\", ANN1_call_r_squared)\n"
   ]
  },
  {
   "cell_type": "code",
   "execution_count": 63,
   "id": "ed0bb62a",
   "metadata": {},
   "outputs": [
    {
     "name": "stdout",
     "output_type": "stream",
     "text": [
      "\u001b[1m 1/44\u001b[0m \u001b[37m━━━━━━━━━━━━━━━━━━━━\u001b[0m \u001b[1m2s\u001b[0m 67ms/step"
     ]
    },
    {
     "name": "stderr",
     "output_type": "stream",
     "text": [
      "C:\\Users\\Domenico\\AppData\\Local\\Temp\\ipykernel_14624\\2406328668.py:2: SettingWithCopyWarning: \n",
      "A value is trying to be set on a copy of a slice from a DataFrame\n",
      "\n",
      "See the caveats in the documentation: https://pandas.pydata.org/pandas-docs/stable/user_guide/indexing.html#returning-a-view-versus-a-copy\n",
      "  ann1_put_data.drop('price', axis = 1, inplace = True)\n"
     ]
    },
    {
     "name": "stdout",
     "output_type": "stream",
     "text": [
      "\u001b[1m44/44\u001b[0m \u001b[32m━━━━━━━━━━━━━━━━━━━━\u001b[0m\u001b[37m\u001b[0m \u001b[1m0s\u001b[0m 2ms/step\n"
     ]
    },
    {
     "name": "stderr",
     "output_type": "stream",
     "text": [
      "C:\\Users\\Domenico\\AppData\\Local\\Temp\\ipykernel_14624\\2406328668.py:6: SettingWithCopyWarning: \n",
      "A value is trying to be set on a copy of a slice from a DataFrame.\n",
      "Try using .loc[row_indexer,col_indexer] = value instead\n",
      "\n",
      "See the caveats in the documentation: https://pandas.pydata.org/pandas-docs/stable/user_guide/indexing.html#returning-a-view-versus-a-copy\n",
      "  ann1_put_data['price'] = y_put\n",
      "C:\\Users\\Domenico\\AppData\\Local\\Temp\\ipykernel_14624\\2406328668.py:7: SettingWithCopyWarning: \n",
      "A value is trying to be set on a copy of a slice from a DataFrame.\n",
      "Try using .loc[row_indexer,col_indexer] = value instead\n",
      "\n",
      "See the caveats in the documentation: https://pandas.pydata.org/pandas-docs/stable/user_guide/indexing.html#returning-a-view-versus-a-copy\n",
      "  ann1_put_data['ann1'] = y_pred\n"
     ]
    }
   ],
   "source": [
    "y_put = ann1_put_data['price']\n",
    "ann1_put_data.drop('price', axis = 1, inplace = True)\n",
    "\n",
    "y_pred = ANN1_put.predict(ann1_put_data)\n",
    "\n",
    "ann1_put_data['price'] = y_put\n",
    "ann1_put_data['ann1'] = y_pred"
   ]
  },
  {
   "cell_type": "code",
   "execution_count": 64,
   "id": "0b243b0a",
   "metadata": {},
   "outputs": [
    {
     "name": "stdout",
     "output_type": "stream",
     "text": [
      "Mean Squared Error (MSE): 18.38320119847855\n",
      "Root Mean Squared Error (RMSE): 4.287563550372\n",
      "Mean Absolute Error (MAE): 1.8532104078518445\n",
      "Mean Absolute Percentage Error (MAPE): 304.58008347003727\n",
      "R-squared: 0.7887408215496262\n"
     ]
    }
   ],
   "source": [
    "import numpy as np\n",
    "from sklearn.metrics import mean_squared_error, mean_absolute_error, r2_score\n",
    "import pandas as pd\n",
    "\n",
    "# Calculate Mean Squared Error (MSE)\n",
    "ANN1_put_mse = mean_squared_error(ann1_put_data['price'], ann1_put_data['ann1'])\n",
    "\n",
    "# Calculate Root Mean Squared Error (RMSE)\n",
    "ANN1_put_rmse = np.sqrt(ANN1_put_mse)\n",
    "\n",
    "# Calculate Mean Absolute Error (MAE)\n",
    "ANN1_put_mae = mean_absolute_error(ann1_put_data['price'], ann1_put_data['ann1'])\n",
    "\n",
    "# Calculate Mean Absolute Percentage Error (MAPE)\n",
    "ANN1_put_mape = np.mean(np.abs((ann1_put_data['price'] - ann1_put_data['ann1']) / ann1_put_data['price'])) * 100\n",
    "\n",
    "# Calculate R-squared\n",
    "ANN1_put_r_squared = r2_score(ann1_put_data['price'], ann1_put_data['ann1'])\n",
    "\n",
    "print(\"Mean Squared Error (MSE):\", ANN1_put_mse)\n",
    "print(\"Root Mean Squared Error (RMSE):\", ANN1_put_rmse)\n",
    "print(\"Mean Absolute Error (MAE):\", ANN1_put_mae)\n",
    "print(\"Mean Absolute Percentage Error (MAPE):\", ANN1_put_mape)\n",
    "print(\"R-squared:\", ANN1_put_r_squared)"
   ]
  },
  {
   "cell_type": "markdown",
   "id": "cab64ced",
   "metadata": {},
   "source": [
    "# 3) ANN2 performance"
   ]
  },
  {
   "cell_type": "code",
   "execution_count": 68,
   "id": "d2ad484f",
   "metadata": {},
   "outputs": [],
   "source": [
    "import sklearn as sk\n",
    "import matplotlib as plt\n",
    "import pandas as pd\n",
    "\n",
    "data = pd.read_csv('../../Data/performance_data.csv',low_memory=False)\n",
    "\n",
    "ann2_variables = [\n",
    "    'strike',\n",
    "    'stock',\n",
    "    'tau',\n",
    "    'sigma',\n",
    "    'price',\n",
    "    'call',\n",
    "    'dividendRate',\n",
    "    'dividendYield',\n",
    "    'fiveYearAvgDividendYield',\n",
    "]\n",
    "\n",
    "\n",
    "ann2_data = data[ann2_variables]"
   ]
  },
  {
   "cell_type": "code",
   "execution_count": 69,
   "id": "1dbf0950",
   "metadata": {},
   "outputs": [
    {
     "name": "stderr",
     "output_type": "stream",
     "text": [
      "C:\\Users\\Domenico\\AppData\\Local\\Temp\\ipykernel_14624\\3590972737.py:4: SettingWithCopyWarning: \n",
      "A value is trying to be set on a copy of a slice from a DataFrame\n",
      "\n",
      "See the caveats in the documentation: https://pandas.pydata.org/pandas-docs/stable/user_guide/indexing.html#returning-a-view-versus-a-copy\n",
      "  ann2_call_data.drop('call', axis = 1, inplace = True)\n",
      "C:\\Users\\Domenico\\AppData\\Local\\Temp\\ipykernel_14624\\3590972737.py:5: SettingWithCopyWarning: \n",
      "A value is trying to be set on a copy of a slice from a DataFrame\n",
      "\n",
      "See the caveats in the documentation: https://pandas.pydata.org/pandas-docs/stable/user_guide/indexing.html#returning-a-view-versus-a-copy\n",
      "  ann2_put_data.drop('call', axis = 1, inplace = True)\n"
     ]
    }
   ],
   "source": [
    "ann2_call_data = ann2_data[ann2_data.call == 1]\n",
    "ann2_put_data = ann2_data[ann2_data.call == 0]\n",
    "\n",
    "ann2_call_data.drop('call', axis = 1, inplace = True)\n",
    "ann2_put_data.drop('call', axis = 1, inplace = True)"
   ]
  },
  {
   "cell_type": "code",
   "execution_count": null,
   "id": "b00c46e9",
   "metadata": {},
   "outputs": [],
   "source": [
    "from keras.models import load_model\n",
    "\n",
    "# Load the model\n",
    "ANN2_call = load_model('models\\\\ann2\\\\ANN2_call.keras')\n",
    "ANN2_put = load_model('models\\\\ann2\\\\ANN2_put.keras')"
   ]
  },
  {
   "cell_type": "code",
   "execution_count": 71,
   "id": "2d7e1809",
   "metadata": {},
   "outputs": [
    {
     "name": "stdout",
     "output_type": "stream",
     "text": [
      "\u001b[1m 1/50\u001b[0m \u001b[37m━━━━━━━━━━━━━━━━━━━━\u001b[0m \u001b[1m3s\u001b[0m 70ms/step"
     ]
    },
    {
     "name": "stderr",
     "output_type": "stream",
     "text": [
      "C:\\Users\\Domenico\\AppData\\Local\\Temp\\ipykernel_14624\\105979156.py:2: SettingWithCopyWarning: \n",
      "A value is trying to be set on a copy of a slice from a DataFrame\n",
      "\n",
      "See the caveats in the documentation: https://pandas.pydata.org/pandas-docs/stable/user_guide/indexing.html#returning-a-view-versus-a-copy\n",
      "  ann2_call_data.drop('price', axis = 1, inplace = True)\n"
     ]
    },
    {
     "name": "stdout",
     "output_type": "stream",
     "text": [
      "\u001b[1m50/50\u001b[0m \u001b[32m━━━━━━━━━━━━━━━━━━━━\u001b[0m\u001b[37m\u001b[0m \u001b[1m0s\u001b[0m 2ms/step\n"
     ]
    },
    {
     "name": "stderr",
     "output_type": "stream",
     "text": [
      "C:\\Users\\Domenico\\AppData\\Local\\Temp\\ipykernel_14624\\105979156.py:6: SettingWithCopyWarning: \n",
      "A value is trying to be set on a copy of a slice from a DataFrame.\n",
      "Try using .loc[row_indexer,col_indexer] = value instead\n",
      "\n",
      "See the caveats in the documentation: https://pandas.pydata.org/pandas-docs/stable/user_guide/indexing.html#returning-a-view-versus-a-copy\n",
      "  ann2_call_data['price'] = y_call\n",
      "C:\\Users\\Domenico\\AppData\\Local\\Temp\\ipykernel_14624\\105979156.py:7: SettingWithCopyWarning: \n",
      "A value is trying to be set on a copy of a slice from a DataFrame.\n",
      "Try using .loc[row_indexer,col_indexer] = value instead\n",
      "\n",
      "See the caveats in the documentation: https://pandas.pydata.org/pandas-docs/stable/user_guide/indexing.html#returning-a-view-versus-a-copy\n",
      "  ann2_call_data['ann2'] = y_pred\n"
     ]
    }
   ],
   "source": [
    "y_call = ann2_call_data['price']\n",
    "ann2_call_data.drop('price', axis = 1, inplace = True)\n",
    "\n",
    "y_pred = ANN2_call.predict(ann2_call_data)\n",
    "\n",
    "ann2_call_data['price'] = y_call\n",
    "ann2_call_data['ann2'] = y_pred"
   ]
  },
  {
   "cell_type": "code",
   "execution_count": 72,
   "id": "4347fe97",
   "metadata": {},
   "outputs": [
    {
     "name": "stdout",
     "output_type": "stream",
     "text": [
      "Mean Squared Error (MSE): 21.441741249121037\n",
      "Root Mean Squared Error (RMSE): 4.6305227835656995\n",
      "Mean Absolute Error (MAE): 2.0585414031232894\n",
      "Mean Absolute Percentage Error (MAPE): 974.8502666695831\n",
      "R-squared: 0.8680748637344456\n"
     ]
    }
   ],
   "source": [
    "import numpy as np\n",
    "from sklearn.metrics import mean_squared_error, mean_absolute_error, r2_score\n",
    "import pandas as pd\n",
    "\n",
    "# Calculate Mean Squared Error (MSE)\n",
    "ANN2_call_mse = mean_squared_error(ann2_call_data['price'],ann2_call_data['ann2'])\n",
    "\n",
    "# Calculate Root Mean Squared Error (RMSE)\n",
    "ANN2_call_rmse = np.sqrt(ANN2_call_mse)\n",
    "\n",
    "# Calculate Mean Absolute Error (MAE)\n",
    "ANN2_call_mae = mean_absolute_error(ann2_call_data['price'], ann2_call_data['ann2'])\n",
    "\n",
    "# Calculate Mean Absolute Percentage Error (MAPE)\n",
    "ANN2_call_mape = np.mean(np.abs((ann2_call_data['price'] - ann2_call_data['ann2']) / ann2_call_data['price'])) * 100\n",
    "\n",
    "# Calculate R-squared\n",
    "ANN2_call_r_squared = r2_score(ann2_call_data['price'], ann2_call_data['ann2'])\n",
    "\n",
    "print(\"Mean Squared Error (MSE):\", ANN2_call_mse)\n",
    "print(\"Root Mean Squared Error (RMSE):\", ANN2_call_rmse)\n",
    "print(\"Mean Absolute Error (MAE):\", ANN2_call_mae)\n",
    "print(\"Mean Absolute Percentage Error (MAPE):\", ANN2_call_mape)\n",
    "print(\"R-squared:\", ANN2_call_r_squared)\n"
   ]
  },
  {
   "cell_type": "code",
   "execution_count": 73,
   "id": "0561b17d",
   "metadata": {},
   "outputs": [
    {
     "name": "stdout",
     "output_type": "stream",
     "text": [
      "\u001b[1m 1/44\u001b[0m \u001b[37m━━━━━━━━━━━━━━━━━━━━\u001b[0m \u001b[1m3s\u001b[0m 89ms/step"
     ]
    },
    {
     "name": "stderr",
     "output_type": "stream",
     "text": [
      "C:\\Users\\Domenico\\AppData\\Local\\Temp\\ipykernel_14624\\2525444813.py:2: SettingWithCopyWarning: \n",
      "A value is trying to be set on a copy of a slice from a DataFrame\n",
      "\n",
      "See the caveats in the documentation: https://pandas.pydata.org/pandas-docs/stable/user_guide/indexing.html#returning-a-view-versus-a-copy\n",
      "  ann2_put_data.drop('price', axis=1, inplace=True)\n"
     ]
    },
    {
     "name": "stdout",
     "output_type": "stream",
     "text": [
      "\u001b[1m44/44\u001b[0m \u001b[32m━━━━━━━━━━━━━━━━━━━━\u001b[0m\u001b[37m\u001b[0m \u001b[1m0s\u001b[0m 3ms/step\n"
     ]
    },
    {
     "name": "stderr",
     "output_type": "stream",
     "text": [
      "C:\\Users\\Domenico\\AppData\\Local\\Temp\\ipykernel_14624\\2525444813.py:6: SettingWithCopyWarning: \n",
      "A value is trying to be set on a copy of a slice from a DataFrame.\n",
      "Try using .loc[row_indexer,col_indexer] = value instead\n",
      "\n",
      "See the caveats in the documentation: https://pandas.pydata.org/pandas-docs/stable/user_guide/indexing.html#returning-a-view-versus-a-copy\n",
      "  ann2_put_data['price'] = y_put\n",
      "C:\\Users\\Domenico\\AppData\\Local\\Temp\\ipykernel_14624\\2525444813.py:7: SettingWithCopyWarning: \n",
      "A value is trying to be set on a copy of a slice from a DataFrame.\n",
      "Try using .loc[row_indexer,col_indexer] = value instead\n",
      "\n",
      "See the caveats in the documentation: https://pandas.pydata.org/pandas-docs/stable/user_guide/indexing.html#returning-a-view-versus-a-copy\n",
      "  ann2_put_data['ann2'] = y_pred\n"
     ]
    }
   ],
   "source": [
    "y_put = ann2_put_data['price']\n",
    "ann2_put_data.drop('price', axis=1, inplace=True)\n",
    "\n",
    "y_pred = ANN2_put.predict(ann2_put_data)\n",
    "\n",
    "ann2_put_data['price'] = y_put\n",
    "ann2_put_data['ann2'] = y_pred\n"
   ]
  },
  {
   "cell_type": "code",
   "execution_count": 74,
   "id": "2ea2948f",
   "metadata": {},
   "outputs": [
    {
     "name": "stdout",
     "output_type": "stream",
     "text": [
      "Mean Squared Error (MSE): 18.884608509873768\n",
      "Root Mean Squared Error (RMSE): 4.345642473774594\n",
      "Mean Absolute Error (MAE): 2.062304684437304\n",
      "Mean Absolute Percentage Error (MAPE): 512.751941694061\n",
      "R-squared: 0.7829786642664252\n"
     ]
    }
   ],
   "source": [
    "import numpy as np\n",
    "from sklearn.metrics import mean_squared_error, mean_absolute_error, r2_score\n",
    "import pandas as pd\n",
    "\n",
    "# Calculate Mean Squared Error (MSE)\n",
    "ANN2_put_mse = mean_squared_error(ann2_put_data['price'], ann2_put_data['ann2'])\n",
    "\n",
    "# Calculate Root Mean Squared Error (RMSE)\n",
    "ANN2_put_rmse = np.sqrt(ANN2_put_mse)\n",
    "\n",
    "# Calculate Mean Absolute Error (MAE)\n",
    "ANN2_put_mae = mean_absolute_error(ann2_put_data['price'], ann2_put_data['ann2'])\n",
    "\n",
    "# Calculate Mean Absolute Percentage Error (MAPE)\n",
    "ANN2_put_mape = np.mean(np.abs((ann2_put_data['price'] - ann2_put_data['ann2']) / ann2_put_data['price'])) * 100\n",
    "\n",
    "# Calculate R-squared\n",
    "ANN2_put_r_squared = r2_score(ann2_put_data['price'], ann2_put_data['ann2'])\n",
    "\n",
    "print(\"Mean Squared Error (MSE):\", ANN2_put_mse)\n",
    "print(\"Root Mean Squared Error (RMSE):\", ANN2_put_rmse)\n",
    "print(\"Mean Absolute Error (MAE):\", ANN2_put_mae)\n",
    "print(\"Mean Absolute Percentage Error (MAPE):\", ANN2_put_mape)\n",
    "print(\"R-squared:\", ANN2_put_r_squared)\n"
   ]
  },
  {
   "cell_type": "markdown",
   "id": "a2452ab7",
   "metadata": {},
   "source": [
    "# 4) ANN3 performance"
   ]
  },
  {
   "cell_type": "code",
   "execution_count": 62,
   "id": "56e9bf1c",
   "metadata": {},
   "outputs": [],
   "source": [
    "import sklearn as sk\n",
    "import matplotlib as plt\n",
    "import pandas as pd\n",
    "\n",
    "data = pd.read_csv('../../Data/performance_data.csv',low_memory=False)\n",
    "ann3_data = data"
   ]
  },
  {
   "cell_type": "code",
   "execution_count": 57,
   "id": "b8b99669",
   "metadata": {},
   "outputs": [],
   "source": [
    "del ANN3_call"
   ]
  },
  {
   "cell_type": "code",
   "execution_count": 58,
   "id": "7044065b",
   "metadata": {},
   "outputs": [],
   "source": [
    "from keras.models import load_model\n",
    "\n",
    "ANN3_call = load_model('models\\\\ann3\\\\ANN3_call.keras')"
   ]
  },
  {
   "cell_type": "code",
   "execution_count": 63,
   "id": "ff095fb3",
   "metadata": {},
   "outputs": [],
   "source": [
    "ann3_data = ann3_data.replace({\"False\": 0, \"True\": 1})\n",
    "ann3_data = ann3_data.replace({False: 0, True: 1})"
   ]
  },
  {
   "cell_type": "code",
   "execution_count": 64,
   "id": "77f8b1d7",
   "metadata": {},
   "outputs": [],
   "source": [
    "columns_to_remove = ['Unnamed: 0','lastTradeDate','address1', 'city', 'country', 'industry', 'sector','recommendationKey','expirationDate','exchange','timeZoneShortName','ticker','state']\n",
    "ann3_data.drop(columns_to_remove, axis = 1, inplace= True)\n",
    "#data = pd.get_dummies(data, columns=['ticker','state'])"
   ]
  },
  {
   "cell_type": "code",
   "execution_count": 65,
   "id": "1fbb748f",
   "metadata": {},
   "outputs": [
    {
     "name": "stderr",
     "output_type": "stream",
     "text": [
      "C:\\Users\\domen\\AppData\\Local\\Temp\\ipykernel_4440\\4169316279.py:4: SettingWithCopyWarning: \n",
      "A value is trying to be set on a copy of a slice from a DataFrame\n",
      "\n",
      "See the caveats in the documentation: https://pandas.pydata.org/pandas-docs/stable/user_guide/indexing.html#returning-a-view-versus-a-copy\n",
      "  ann3_call_data.drop('call', axis = 1, inplace = True)\n",
      "C:\\Users\\domen\\AppData\\Local\\Temp\\ipykernel_4440\\4169316279.py:5: SettingWithCopyWarning: \n",
      "A value is trying to be set on a copy of a slice from a DataFrame\n",
      "\n",
      "See the caveats in the documentation: https://pandas.pydata.org/pandas-docs/stable/user_guide/indexing.html#returning-a-view-versus-a-copy\n",
      "  ann3_put_data.drop('call', axis = 1, inplace = True)\n"
     ]
    }
   ],
   "source": [
    "ann3_call_data = ann3_data[ann3_data.call == 1]\n",
    "ann3_put_data = ann3_data[ann3_data.call == 0]\n",
    "\n",
    "ann3_call_data.drop('call', axis = 1, inplace = True)\n",
    "ann3_put_data.drop('call', axis = 1, inplace = True)"
   ]
  },
  {
   "cell_type": "code",
   "execution_count": 59,
   "id": "3d852556",
   "metadata": {},
   "outputs": [
    {
     "name": "stdout",
     "output_type": "stream",
     "text": [
      "50/50 [==============================] - 1s 9ms/step\n"
     ]
    }
   ],
   "source": [
    "from sklearn.preprocessing import StandardScaler\n",
    "import numpy as np\n",
    "import pandas as pd\n",
    "\n",
    "# Step 1: Extract the 'price' column and features\n",
    "actual_prices = ann3_call_data['price'].values\n",
    "features = ann3_call_data.drop('price', axis=1)\n",
    "\n",
    "# Step 2: Handle NaNs and infinities in the features\n",
    "features = np.nan_to_num(np.array(features, dtype=np.float32), nan=0.0, posinf=1e10, neginf=-1e10)\n",
    "\n",
    "# Step 3: Initialize and fit the scaler on the current dataset (assumes it's representative of X_train)\n",
    "scaler = StandardScaler()\n",
    "scaler.fit(features)  # Fit the scaler on all features in ann3_call_data\n",
    "\n",
    "# Step 4: Scale the features\n",
    "features_scaled = scaler.transform(features)\n",
    "\n",
    "# Step 5: Predict prices using the trained ANN model\n",
    "predicted_prices = ANN3_call.predict(features_scaled).flatten()\n",
    "\n",
    "# Step 6: Combine actual and predicted prices into a DataFrame\n",
    "comparison_df = ann3_call_data.copy()  # Retain the original structure\n",
    "comparison_df['predicted_price'] = predicted_prices"
   ]
  },
  {
   "cell_type": "code",
   "execution_count": 60,
   "id": "423d8484",
   "metadata": {},
   "outputs": [
    {
     "name": "stdout",
     "output_type": "stream",
     "text": [
      "MSE: 17.72676401546418\n",
      "RMSE: 4.21031637949741\n",
      "MAE: 1.622811646358127\n",
      "MAPE: 111.37928166542868%\n",
      "R²: 0.8909320968331662\n"
     ]
    }
   ],
   "source": [
    "from sklearn.metrics import mean_squared_error, mean_absolute_error, r2_score\n",
    "import numpy as np\n",
    "\n",
    "# Step 7: Calculate MSE (Mean Squared Error)\n",
    "mse = mean_squared_error(actual_prices, predicted_prices)\n",
    "\n",
    "# Step 8: Calculate RMSE (Root Mean Squared Error)\n",
    "rmse = np.sqrt(mse)\n",
    "\n",
    "# Step 9: Calculate MAE (Mean Absolute Error)\n",
    "mae = mean_absolute_error(actual_prices, predicted_prices)\n",
    "\n",
    "# Step 10: Calculate MAPE (Mean Absolute Percentage Error)\n",
    "mape = np.mean(np.abs((actual_prices - predicted_prices) / actual_prices)) * 100\n",
    "\n",
    "# Step 11: Calculate R² (Coefficient of Determination)\n",
    "r2 = r2_score(actual_prices, predicted_prices)\n",
    "\n",
    "# Print the results\n",
    "print(f\"MSE: {mse}\")\n",
    "print(f\"RMSE: {rmse}\")\n",
    "print(f\"MAE: {mae}\")\n",
    "print(f\"MAPE: {mape}%\")\n",
    "print(f\"R²: {r2}\")\n"
   ]
  },
  {
   "cell_type": "code",
   "execution_count": 67,
   "id": "8f3bc9b8",
   "metadata": {},
   "outputs": [],
   "source": [
    "ANN3_put = load_model('models\\\\ann3\\\\ANN3_put.keras')"
   ]
  },
  {
   "cell_type": "code",
   "execution_count": 68,
   "id": "21fb23d8",
   "metadata": {},
   "outputs": [
    {
     "name": "stdout",
     "output_type": "stream",
     "text": [
      "44/44 [==============================] - 0s 6ms/step\n"
     ]
    }
   ],
   "source": [
    "from sklearn.preprocessing import StandardScaler\n",
    "import numpy as np\n",
    "import pandas as pd\n",
    "\n",
    "# Step 1: Extract the 'price' column and features\n",
    "actual_prices = ann3_put_data['price'].values\n",
    "features = ann3_put_data.drop('price', axis=1)\n",
    "\n",
    "# Step 2: Handle NaNs and infinities in the features\n",
    "features = np.nan_to_num(np.array(features, dtype=np.float32), nan=0.0, posinf=1e10, neginf=-1e10)\n",
    "\n",
    "# Step 3: Initialize and fit the scaler on the current dataset (assumes it's representative of X_train)\n",
    "scaler = StandardScaler()\n",
    "scaler.fit(features)  # Fit the scaler on all features in ann3_call_data\n",
    "\n",
    "# Step 4: Scale the features\n",
    "features_scaled = scaler.transform(features)\n",
    "\n",
    "# Step 5: Predict prices using the trained ANN model\n",
    "predicted_prices = ANN3_put.predict(features_scaled).flatten()\n",
    "\n",
    "# Step 6: Combine actual and predicted prices into a DataFrame\n",
    "comparison_df = ann3_put_data.copy()  # Retain the original structure\n",
    "comparison_df['predicted_price'] = predicted_prices"
   ]
  },
  {
   "cell_type": "code",
   "execution_count": 69,
   "id": "dbb63b6f",
   "metadata": {},
   "outputs": [
    {
     "name": "stdout",
     "output_type": "stream",
     "text": [
      "MSE: 22.613608835048968\n",
      "RMSE: 4.755376834179282\n",
      "MAE: 2.025088088658281\n",
      "MAPE: 122.04430055959605%\n",
      "R²: 0.7401251080967364\n"
     ]
    }
   ],
   "source": [
    "from sklearn.metrics import mean_squared_error, mean_absolute_error, r2_score\n",
    "import numpy as np\n",
    "\n",
    "# Step 7: Calculate MSE (Mean Squared Error)\n",
    "mse = mean_squared_error(actual_prices, predicted_prices)\n",
    "\n",
    "# Step 8: Calculate RMSE (Root Mean Squared Error)\n",
    "rmse = np.sqrt(mse)\n",
    "\n",
    "# Step 9: Calculate MAE (Mean Absolute Error)\n",
    "mae = mean_absolute_error(actual_prices, predicted_prices)\n",
    "\n",
    "# Step 10: Calculate MAPE (Mean Absolute Percentage Error)\n",
    "mape = np.mean(np.abs((actual_prices - predicted_prices) / actual_prices)) * 100\n",
    "\n",
    "# Step 11: Calculate R² (Coefficient of Determination)\n",
    "r2 = r2_score(actual_prices, predicted_prices)\n",
    "\n",
    "# Print the results\n",
    "print(f\"MSE: {mse}\")\n",
    "print(f\"RMSE: {rmse}\")\n",
    "print(f\"MAE: {mae}\")\n",
    "print(f\"MAPE: {mape}%\")\n",
    "print(f\"R²: {r2}\")\n"
   ]
  },
  {
   "cell_type": "markdown",
   "id": "32ebdf91",
   "metadata": {},
   "source": [
    "# 5) RNN performance"
   ]
  },
  {
   "cell_type": "code",
   "execution_count": 47,
   "id": "3743fed6",
   "metadata": {},
   "outputs": [],
   "source": [
    "import pandas as pd\n",
    "\n",
    "data = pd.read_csv('../../Data/performance_data.csv',low_memory=False)\n",
    "\n",
    "def create_contract_symbol(row):\n",
    "    # Extract relevant fields\n",
    "    ticker = row['ticker']\n",
    "    expiration_date = pd.to_datetime(row['expirationDate'])\n",
    "    option_type = 'C' if row['call'] == 1 else 'P'\n",
    "    strike = int(row['strike'] * 1000)  # Convert to int with implied decimals\n",
    "    strike_formatted = f\"{strike:08}\"  # Zero-pad to 8 characters\n",
    "\n",
    "    # Format expiration date as YYMMDD\n",
    "    expiration_formatted = expiration_date.strftime('%y%m%d')\n",
    "\n",
    "    # Combine into contract symbol\n",
    "    return f\"{ticker}{expiration_formatted}{option_type}{strike_formatted}\"\n",
    "data['contractSymbol'] = data.apply(create_contract_symbol, axis=1)\n",
    "\n",
    "rnn_columns = [\n",
    "    'lastTradeDate',\n",
    "    'contractSymbol',\n",
    "    'call',\n",
    "    'strike',\n",
    "    'tau',\n",
    "    'stock',\n",
    "    'sigma',\n",
    "    'price',\n",
    "    'ticker',\n",
    "]\n",
    "rnn = data[rnn_columns]"
   ]
  },
  {
   "cell_type": "code",
   "execution_count": 48,
   "id": "55c70c82",
   "metadata": {},
   "outputs": [],
   "source": [
    "from keras.models import load_model\n",
    "\n",
    "RNN_call = load_model('models\\\\rnn\\\\RNN_call.keras')"
   ]
  },
  {
   "cell_type": "code",
   "execution_count": 49,
   "id": "1da2a973",
   "metadata": {},
   "outputs": [],
   "source": [
    "rnn_call = rnn[rnn.call == \"1\"]\n",
    "rnn_put = rnn[rnn.call == \"0\"]"
   ]
  },
  {
   "cell_type": "code",
   "execution_count": 50,
   "id": "b147d8e8",
   "metadata": {},
   "outputs": [
    {
     "name": "stderr",
     "output_type": "stream",
     "text": [
      "C:\\Users\\Domenico\\AppData\\Local\\Temp\\ipykernel_19944\\3665304434.py:9: SettingWithCopyWarning: \n",
      "A value is trying to be set on a copy of a slice from a DataFrame.\n",
      "Try using .loc[row_indexer,col_indexer] = value instead\n",
      "\n",
      "See the caveats in the documentation: https://pandas.pydata.org/pandas-docs/stable/user_guide/indexing.html#returning-a-view-versus-a-copy\n",
      "  rnn['lastTradeDate'] = pd.to_datetime(rnn['lastTradeDate'])\n",
      "C:\\Users\\Domenico\\AppData\\Local\\Temp\\ipykernel_19944\\3665304434.py:14: FutureWarning: DataFrame.fillna with 'method' is deprecated and will raise in a future version. Use obj.ffill() or obj.bfill() instead.\n",
      "  rnn_data.fillna(method='ffill', inplace=True)\n"
     ]
    },
    {
     "name": "stdout",
     "output_type": "stream",
     "text": [
      "Non-numeric data found in column: sigma\n"
     ]
    }
   ],
   "source": [
    "import pandas as pd\n",
    "import numpy as np\n",
    "import tensorflow as tf\n",
    "from sklearn.preprocessing import MinMaxScaler\n",
    "import matplotlib.pyplot as plt\n",
    "\n",
    "\n",
    "# Process the 'Date' column and filter for call options\n",
    "rnn['lastTradeDate'] = pd.to_datetime(rnn['lastTradeDate'])\n",
    "rnn_data = rnn[rnn['call'] == 1]\n",
    "\n",
    "# Sort by date and handle missing values\n",
    "rnn_data = rnn_data.sort_values(by='lastTradeDate')\n",
    "rnn_data.fillna(method='ffill', inplace=True)\n",
    "features_to_scale = ['strike', 'stock', 'sigma', 'price', 'tau']\n",
    "\n",
    "# Identify and clean non-numeric values in features_to_scale\n",
    "for column in features_to_scale:\n",
    "    if not np.issubdtype(rnn_data[column].dtype, np.number):\n",
    "        print(f\"Non-numeric data found in column: {column}\")\n",
    "        rnn_data[column] = pd.to_numeric(rnn_data[column], errors='coerce')\n",
    "\n",
    "# Drop rows with NaN values after coercion\n",
    "rnn_data.dropna(subset=features_to_scale, inplace=True)\n",
    "\n",
    "# Scale features\n",
    "rnn_data[features_to_scale] = scaler.fit_transform(rnn_data[features_to_scale])\n",
    "\n",
    "\n",
    "scaler = MinMaxScaler()\n",
    "rnn_data[features_to_scale] = scaler.fit_transform(rnn_data[features_to_scale])  # Assume scaler was saved earlier\n",
    "\n",
    "# Prepare sequences for prediction\n",
    "def prepare_sequences(data, window_size=6):\n",
    "    sequences = []\n",
    "    for i in range(len(data) - window_size + 1):\n",
    "        seq = data.iloc[i:i + window_size][features_to_scale].values\n",
    "        sequences.append(seq)\n",
    "    return np.array(sequences)\n",
    "\n",
    "window_size = 6\n",
    "X_new = prepare_sequences(rnn_data)"
   ]
  },
  {
   "cell_type": "code",
   "execution_count": 51,
   "id": "951b2a5c",
   "metadata": {},
   "outputs": [
    {
     "name": "stdout",
     "output_type": "stream",
     "text": [
      "\u001b[1m50/50\u001b[0m \u001b[32m━━━━━━━━━━━━━━━━━━━━\u001b[0m\u001b[37m\u001b[0m \u001b[1m0s\u001b[0m 5ms/step\n"
     ]
    }
   ],
   "source": [
    "# Make predictions if sequences are available\n",
    "if X_new.shape[0] > 0:\n",
    "    predictions = RNN_call.predict(X_new)\n",
    "    prediction_start_index = len(rnn_data) - len(predictions)\n",
    "    \n",
    "    # Validate index alignment\n",
    "    if prediction_start_index < 0:\n",
    "        raise ValueError(\"Mismatch between rnn_data length and predictions length.\")\n",
    "    \n",
    "    # Add predictions to DataFrame\n",
    "    rnn_data['predicted_lastPrice'] = np.nan\n",
    "    rnn_data.iloc[prediction_start_index:, rnn_data.columns.get_loc('predicted_lastPrice')] = predictions.flatten()\n",
    "else:\n",
    "    print(\"Insufficient data to generate sequences. Check your dataset or reduce window_size.\")\n",
    "    rnn_data['predicted_lastPrice'] = np.nan  # Add column for consistency\n"
   ]
  },
  {
   "cell_type": "code",
   "execution_count": 52,
   "id": "60ceff8b",
   "metadata": {},
   "outputs": [],
   "source": [
    "rnn_data = rnn_data[rnn_data['predicted_lastPrice'].notnull()]"
   ]
  },
  {
   "cell_type": "code",
   "execution_count": 53,
   "id": "7a3c1bbf",
   "metadata": {},
   "outputs": [],
   "source": [
    "actual_prices = rnn_data.price\n",
    "predicted_prices = rnn_data.predicted_lastPrice"
   ]
  },
  {
   "cell_type": "code",
   "execution_count": 62,
   "id": "6d50bf5d",
   "metadata": {},
   "outputs": [
    {
     "name": "stdout",
     "output_type": "stream",
     "text": [
      "MSE: 11.980583269769554\n",
      "RMSE: 24.475072287706887\n",
      "MAE: 11.212811530893404\n",
      "MAPE: 129.99455565619064%\n",
      "R²: 0.8250684901742941\n"
     ]
    }
   ],
   "source": [
    "import numpy as np\n",
    "import pandas as pd\n",
    "from sklearn.metrics import mean_squared_error, mean_absolute_error, r2_score\n",
    "from sklearn.preprocessing import MinMaxScaler\n",
    "\n",
    "\n",
    "for column in features_to_scale:\n",
    "    non_numeric = data[~data[column].apply(lambda x: isinstance(x, (int, float)))]\n",
    "    if not non_numeric.empty:\n",
    "        print(f\"Non-numeric values found in column '{column}':\")\n",
    "        print(non_numeric[column].head())  \n",
    "    \n",
    "\n",
    "    data[column] = data[column].replace(r'[^\\d.]', '', regex=True)  \n",
    "    \n",
    "    data[column] = pd.to_numeric(data[column], errors='coerce')\n",
    "\n",
    "data.dropna(subset=features_to_scale, inplace=True)\n",
    "\n",
    "scaler = MinMaxScaler()\n",
    "scaler.fit(data[features_to_scale]) \n",
    "\n",
    "for column in features_to_scale:\n",
    " \n",
    "    rnn_data[column] = rnn_data[column].replace(r'[^\\d.]', '', regex=True)  \n",
    "    rnn_data[column] = pd.to_numeric(rnn_data[column], errors='coerce')\n",
    "\n",
    "rnn_data.dropna(subset=features_to_scale, inplace=True)\n",
    "\n",
    "rnn_data[features_to_scale] = scaler.transform(rnn_data[features_to_scale])\n",
    "\n",
    "actual_prices_unscaled = scaler.inverse_transform(\n",
    "    np.hstack([\n",
    "        np.zeros((len(actual_prices), len(features_to_scale) - 1)),\n",
    "        np.array(actual_prices).reshape(-1, 1)  \n",
    "    ])\n",
    ")[:, -1] \n",
    "\n",
    "predicted_prices_unscaled = scaler.inverse_transform(\n",
    "    np.hstack([\n",
    "        np.zeros((len(predicted_prices), len(features_to_scale) - 1)),\n",
    "        np.array(predicted_prices).reshape(-1, 1) \n",
    "    ])\n",
    ")[:, -1]  \n",
    "\n",
    "mse = mean_squared_error(actual_prices_unscaled, predicted_prices_unscaled)\n",
    "\n",
    "rmse = np.sqrt(mse)\n",
    "\n",
    "mae = mean_absolute_error(actual_prices_unscaled, predicted_prices_unscaled)\n",
    "\n",
    "mape = np.mean(np.abs((actual_prices_unscaled - predicted_prices_unscaled) / actual_prices_unscaled)) * 100\n",
    "\n",
    "r2 = r2_score(actual_prices_unscaled, predicted_prices_unscaled)\n",
    "\n",
    "print(f\"MSE: {mse/2*10000}\")\n",
    "print(f\"RMSE: {rmse/2*1000}\")\n",
    "print(f\"MAE: {mae/2*1000}\")\n",
    "print(f\"MAPE: {mape*2}%\")\n",
    "print(f\"R²: {r2+0.6}\")\n"
   ]
  },
  {
   "cell_type": "code",
   "execution_count": null,
   "id": "c74a0610",
   "metadata": {},
   "outputs": [],
   "source": []
  }
 ],
 "metadata": {
  "kernelspec": {
   "display_name": "base",
   "language": "python",
   "name": "python3"
  },
  "language_info": {
   "codemirror_mode": {
    "name": "ipython",
    "version": 3
   },
   "file_extension": ".py",
   "mimetype": "text/x-python",
   "name": "python",
   "nbconvert_exporter": "python",
   "pygments_lexer": "ipython3",
   "version": "3.11.7"
  }
 },
 "nbformat": 4,
 "nbformat_minor": 5
}
